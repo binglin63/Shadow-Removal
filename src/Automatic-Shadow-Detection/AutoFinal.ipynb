{
  "nbformat": 4,
  "nbformat_minor": 0,
  "metadata": {
    "colab": {
      "name": "AutoFinal.ipynb",
      "version": "0.3.2",
      "provenance": []
    },
    "kernelspec": {
      "display_name": "Python 3",
      "language": "python",
      "name": "python3"
    }
  },
  "cells": [
    {
      "metadata": {
        "id": "wlA88TzIN6gM",
        "colab_type": "text"
      },
      "cell_type": "markdown",
      "source": [
        "### Imports"
      ]
    },
    {
      "metadata": {
        "id": "TYoCQtg3N2U7",
        "colab_type": "code",
        "colab": {}
      },
      "cell_type": "code",
      "source": [
        "import pymeanshift as pms\n",
        "import numpy as np\n",
        "from skimage import io, color, filters, measure\n",
        "from scipy.signal import convolve2d\n",
        "from sklearn.cluster import KMeans\n",
        "from scipy.stats import norm\n",
        "import scipy.ndimage\n",
        "import matplotlib.pyplot as plt\n",
        "import utilitarian"
      ],
      "execution_count": 0,
      "outputs": []
    },
    {
      "metadata": {
        "id": "cb_tdvvgOBrP",
        "colab_type": "text"
      },
      "cell_type": "markdown",
      "source": [
        "### Utility Functions"
      ]
    },
    {
      "metadata": {
        "id": "hBTxtD4PN_j0",
        "colab_type": "code",
        "colab": {}
      },
      "cell_type": "code",
      "source": [
        "#################################\n",
        "## Mean colour space functions ##\n",
        "#################################\n",
        "\n",
        "def rgb2hsi(im):\n",
        "    '''\n",
        "    RGB to HSI\n",
        "    '''\n",
        "    \n",
        "    randno = 123111821319\n",
        "    \n",
        "    im = im.astype(float)\n",
        "    r = im[:,:,0]\n",
        "    g = im[:,:,1]\n",
        "    b = im[:,:,2]\n",
        "    \n",
        "    I = (r+g+b)/3\n",
        "    V_a = - np.sqrt(1/6.0)*r - np.sqrt(1/6.0)*g + np.sqrt(2/3.0)*b\n",
        "    V_b = np.sqrt(1/6.0)*r - np.sqrt(2/3.0)*g\n",
        "    S = np.sqrt(V_a**2 + V_b**2)\n",
        "    H = np.reciprocal(np.tan(V_b/V_a))\n",
        "    \n",
        "    I = (I - I.min()) / (I.max() - I.min())\n",
        "    H[np.isinf(H)] = -randno\n",
        "    H[np.isnan(H)] = -randno\n",
        "    H[H==-randno] = H.max()\n",
        "    H = (H - H.min()) / (H.max() - H.min())\n",
        "    \n",
        "    return np.dstack((H,S,I))\n",
        "\n",
        "def Hsi_fv(im, sg, nr):\n",
        "    \n",
        "    '''\n",
        "    Returns mean Hsi for each segment\n",
        "    '''\n",
        "    \n",
        "    hsi = rgb2hsi(im)\n",
        "    ind = [None] * nr\n",
        "    \n",
        "    for i in range(nr):\n",
        "        ind[i] = (sg == (i+1))\n",
        "\n",
        "    desc = np.zeros((nr, 3))\n",
        "    \n",
        "    for i in range(3):\n",
        "        feature = hsi[:,:,i]\n",
        "        for j in range(nr):\n",
        "            ft = feature[ind[j]]\n",
        "            desc[j,i] = ft.sum() / ind[j].sum()\n",
        "            \n",
        "    return desc\n",
        "\n",
        "def Hsv_fv(im, sg, nr):\n",
        "    \n",
        "    '''\n",
        "    Returns mean HSV foe each segment.\n",
        "    '''\n",
        "    \n",
        "    im = color.rgb2hsv(im)\n",
        "    ind = [None] * nr\n",
        "    \n",
        "    for i in range(nr):\n",
        "        ind[i] = (sg == (i+1))\n",
        "    \n",
        "    desc = np.zeros((nr, 3))\n",
        "    \n",
        "    for i in range(3):\n",
        "        feature = im[:,:,i]\n",
        "        for j in range(nr):\n",
        "            ft = feature[ind[j]]\n",
        "            desc[j,i] = ft.sum() / ind[j].sum()\n",
        "            \n",
        "    return desc\n",
        "\n",
        "def Ycbcr_fv(im, sg, nr):\n",
        "    \n",
        "    '''\n",
        "    Returns mean ycbcr for each segment\n",
        "    '''\n",
        "    \n",
        "    im = color.rgb2ycbcr(im)\n",
        "    ind = [None] * nr\n",
        "    \n",
        "    for i in range(nr):\n",
        "        ind[i] = (sg == (i+1))\n",
        "    \n",
        "    desc = np.zeros((nr, 3))\n",
        "    \n",
        "    for i in range(3):\n",
        "        feature = im[:,:,i]\n",
        "        for j in range(nr):\n",
        "            ft = feature[ind[j]]\n",
        "            desc[j,i] = ft.sum() / ind[j].sum()\n",
        "            \n",
        "    return desc\n",
        "\n",
        "#################################\n",
        "##### Texton Feature Vector #####\n",
        "#################################\n",
        "\n",
        "def padCorners(im, r):\n",
        "    \n",
        "    impad = np.zeros((im.shape[0]+2*r,im.shape[1]+2*r))\n",
        "    impad[r:-r,r:-r] = im\n",
        "    impad[:r,r:-r] = np.flipud(im[:r,:]); \n",
        "    impad[-r:,r:-r] = np.flipud(im[-r:,:]);\n",
        "    impad[r:-r,:r] = np.fliplr(im[:,0:r]);\n",
        "    impad[r:-r,-r:] = np.fliplr(im[:,-r:]);\n",
        "    impad[:r,:r] = np.flipud(np.fliplr(im[:r,:r]));\n",
        "    impad[:r,-r:] = np.flipud(np.fliplr(im[:r,-r:]));\n",
        "    impad[-r:,:r] = np.flipud(np.fliplr(im[-r:,0:r]));\n",
        "    impad[-r:,-r:] = np.flipud(np.fliplr(im[-r:,-r:]));\n",
        "    return impad\n",
        "\n",
        "def conv2(x, y, mode='same'):\n",
        "    '''do convolution of x with y'''\n",
        "    return np.rot90(convolve2d(np.rot90(x, 2), np.rot90(y, 2), mode=mode), 2)\n",
        "\n",
        "def filterBank(im):\n",
        "    '''Run the filter bank on im'''\n",
        "    fb = np.load('fb.npy') # filter bank stored\n",
        "    impad = padCorners(im, 9)\n",
        "    \n",
        "    dct = dict()\n",
        "    for i in range(fb.shape[0]):\n",
        "        for j in range(fb.shape[1]):\n",
        "            dct[i+j*12] = conv2(impad, fb[i,j])\n",
        "            dct[i+j*12] = dct[i+j*12][r:-r,r:-r]\n",
        "    return dct\n",
        "\n",
        "def distComp(x,y):\n",
        "    '''change later, inline'''\n",
        "    z = x.T.dot(y)\n",
        "    x2 = np.sum(x**2,axis=0)\n",
        "    y2 = np.sum(y**2,axis=0)\n",
        "    for i in range(y.shape[1]):\n",
        "        z[:,i] = x2.T + y2[i] - 2*z[:,i]\n",
        "    return z\n",
        "            \n",
        "def closestTextons(fim):\n",
        "    '''closest texton for each '''\n",
        "    textons = np.load('textons.npy')\n",
        "    dat = np.zeros((len(fim), (fim[0].shape[0] * fim[0].shape[1])),dtype=float)\n",
        "    for i in range(len(fim)):\n",
        "        dat[i,:] = fim[i].ravel()\n",
        "    d2 = distComp(dat, textons)\n",
        "    mapo = np.argmin(d2,axis=1)\n",
        "    w,h = fim[0].shape\n",
        "    mapo = np.reshape(mapo, (w,h))\n",
        "    return mapo\n",
        "\n",
        "def texture_fv(rgb_im, sg, nr):\n",
        "    '''\n",
        "    Texture feature vector\n",
        "    '''\n",
        "    \n",
        "    rgb_im = rgb_im.astype(float)/256.0\n",
        "    gray_im = (rgb_im[:,:,0] + rgb_im[:,:,2]) / (rgb_im[:,:,1] + 1e-2)\n",
        "    gray_im = gray_im / gray_im.max();\n",
        "    \n",
        "    fim = filterbank(gray_im)\n",
        "    im = closestTextons(fim)\n",
        "    \n",
        "    binNum = 128\n",
        "    desc = np.zeros((nr, binNum))\n",
        "    \n",
        "    ind = [None] * nr\n",
        "    \n",
        "    for i in range(nr):\n",
        "        ind[i] = (sg == (i+1))\n",
        "    \n",
        "    for i in range(binNum):\n",
        "        I = (im == (i+1))\n",
        "        for j in range(nr):\n",
        "            desc[j,i] = I[ind[j]].sum()\n",
        "        \n",
        "    tmp = np.sum(desc, axis=1)[:,np.newaxis]\n",
        "    desc = desc / np.tile(tmp, (1, desc.shape[1]))\n",
        "    return desc\n",
        "\n",
        "#################################\n",
        "#### Gradient Feature Vector ####\n",
        "#################################\n",
        "\n",
        "def fspecial_gaussian(shape=(4,4),sigma=2):\n",
        "    \"\"\"\n",
        "    2D gaussian mask\n",
        "    \"\"\"\n",
        "    m,n = [(ss-1.)/2. for ss in shape]\n",
        "    y,x = np.ogrid[-m:m+1,-n:n+1]\n",
        "    h = np.exp( -(x*x + y*y) / (2.*sigma*sigma) )\n",
        "    h[ h < np.finfo(h.dtype).eps*h.max() ] = 0\n",
        "    sumh = h.sum()\n",
        "    if sumh != 0:\n",
        "        h /= sumh\n",
        "    return h\n",
        "\n",
        "def imgradient(gray_im):\n",
        "    '''\n",
        "    get image gradient\n",
        "    '''\n",
        "    gray_im = np.pad(gray_im,((1,1),(1,1)),'edge')\n",
        "    sobelx = filters.sobel_h(gray_im)\n",
        "    sobely = filters.sobel_v(gray_im)\n",
        "    magnitude = 4*np.sqrt(sobelx**2.0 + sobely**2.0)[1:-1,1:-1]\n",
        "    return magnitude\n",
        "\n",
        "def gradient_fv(rgb_im, sg, nr):\n",
        "    G = fspecial_gaussian()\n",
        "    \n",
        "    Ix = scipy.ndimage.correlate(rgb_im[:,:,0], G, mode='constant')\n",
        "    \n",
        "    Ig = np.zeros((Ix.shape[0],Ix.shape[1],3),dtype=float)\n",
        "    for i in range(3):\n",
        "        Ig[:,:,i] = scipy.ndimage.correlate(rgb_im[:,:,i], G, mode='constant')\n",
        "    \n",
        "    Gmag = imgradient(color.rgb2gray(Ig))\n",
        "    \n",
        "    binNum = 20\n",
        "    Gmag = np.int32(Gmag / (Gmag.max() / binNum))\n",
        "    \n",
        "    desc = np.zeros((nr, binNum))\n",
        "    \n",
        "    ind = [None] * nr\n",
        "    \n",
        "    for i in range(nr):\n",
        "        ind[i] = (sg == (i+1))\n",
        "    \n",
        "    for i in range(binNum):\n",
        "        I = (Gmag == (i+1))\n",
        "        for j in range(nr):\n",
        "            desc[j,i] = I[ind[j]].sum()\n",
        "        \n",
        "    tmp = np.sum(desc, axis=1)[:,np.newaxis]\n",
        "    desc = desc / np.tile(tmp, (1, desc.shape[1]))\n",
        "    return desc\n",
        "\n",
        "################################\n",
        "#### Segment Centroid, Area ####\n",
        "################################\n",
        "\n",
        "def seg_fv(rgb_im, sg, nr):\n",
        "    stats = measure.regionprops(sg)\n",
        "    desc = dict()\n",
        "    return [r.centroid for r in stats]"
      ],
      "execution_count": 0,
      "outputs": []
    },
    {
      "metadata": {
        "id": "9BBAtdJqQEHs",
        "colab_type": "text"
      },
      "cell_type": "markdown",
      "source": [
        "### Read image and perform mean shift segmentation"
      ]
    },
    {
      "metadata": {
        "id": "QYl3u0_BN2VP",
        "colab_type": "code",
        "colab": {},
        "outputId": "99fb8f13-40f2-4d78-84d0-eb9f1b28319b"
      },
      "cell_type": "code",
      "source": [
        "im = io.imread(\"image.jpg\")[:,:,:3]\n",
        "\n",
        "io.imshow(im)\n",
        "plt.show()\n",
        "\n",
        "(segmented_image, seg, segnum) = pms.segment(im, spatial_radius=4, range_radius=7.5, min_density=100) #9,15 : 4,7.5\n",
        "seg += 1\n",
        "\n",
        "io.imshow(seg)\n",
        "#plt.savefig('output/buto2.png', dpi=400)\n",
        "plt.show()"
      ],
      "execution_count": 0,
      "outputs": [
        {
          "output_type": "stream",
          "text": [
            "56\n"
          ],
          "name": "stdout"
        },
        {
          "output_type": "display_data",
          "data": {
            "image/png": "[encoded data removed]",
            "text/plain": [
              "<Figure size 432x288 with 2 Axes>"
            ]
          },
          "metadata": {
            "tags": [],
            "needs_background": "light"
          }
        }
      ]
    },
    {
      "metadata": {
        "id": "Kz2yBnUBS5or",
        "colab_type": "text"
      },
      "cell_type": "markdown",
      "source": [
        "### Get the feature vectors"
      ]
    },
    {
      "metadata": {
        "id": "6FuE5VEPN2Vi",
        "colab_type": "code",
        "colab": {},
        "outputId": "7816b570-6b77-467f-c21e-c5c688f68327"
      },
      "cell_type": "code",
      "source": [
        "hsi = Hsi_fv(im, seg, segnum);\n",
        "hsv = Hsv_fv(im, seg, segnum);\n",
        "ycbcr = Ycbcr_fv(im, seg, segnum);\n",
        "\n",
        "texthist = texture_fv(im, seg, segnum);\n",
        "grad = gradient_fv(im, seg, segnum);\n",
        "centroids = seg_fv(im, seg, segnum);\n",
        "\n",
        "# Scale to 0-1 ycbcr and hsv\n",
        "ycbcr[:,0] = ycbcr[:,0] / ycbcr[:,0].max();\n",
        "hsv[:,0] = hsv[:,0] / hsv[:,0].max();"
      ],
      "execution_count": 0,
      "outputs": [
        {
          "output_type": "stream",
          "text": [
            "/home/shyamgopal/.local/lib/python3.5/site-packages/ipykernel_launcher.py:14: RuntimeWarning: divide by zero encountered in true_divide\n",
            "  \n",
            "/home/shyamgopal/.local/lib/python3.5/site-packages/ipykernel_launcher.py:14: RuntimeWarning: invalid value encountered in tan\n",
            "  \n"
          ],
          "name": "stderr"
        },
        {
          "output_type": "stream",
          "text": [
            "3.4220532319391634\n",
            "[[0.60045662 0.60020557 0.5949641  ... 0.57617122 0.54338843 0.54603379]\n",
            " [0.57569222 0.56847215 0.56567516 ... 0.57656935 0.57675439 0.55742569]\n",
            " [0.55030932 0.54377267 0.54015906 ... 0.59021544 0.59021544 0.59021544]\n",
            " ...\n",
            " [0.5122322  0.56355373 0.56910847 ... 0.57595666 0.55086774 0.52678405]\n",
            " [0.53077968 0.55632476 0.55757545 ... 0.57741504 0.54835889 0.51631073]\n",
            " [0.53686018 0.56554635 0.55461985 ... 0.57726076 0.55337426 0.51952661]]\n"
          ],
          "name": "stdout"
        }
      ]
    },
    {
      "metadata": {
        "id": "iqj0TYaTS8m1",
        "colab_type": "text"
      },
      "cell_type": "markdown",
      "source": [
        "### Find nearest neighbour of each segment"
      ]
    },
    {
      "metadata": {
        "id": "Ffuk97RlN2Vn",
        "colab_type": "code",
        "colab": {},
        "outputId": "99348d93-3e8c-4e8c-af82-7b962838270e"
      },
      "cell_type": "code",
      "source": [
        "### Get distances\n",
        "between = np.zeros((segnum, segnum), dtype=float)\n",
        "for i in range(segnum):\n",
        "    for j in range(segnum):\n",
        "        dist = np.array([\n",
        "            [centroids[i][0], centroids[i][1]],\n",
        "            [centroids[j][0], centroids[j][1]]\n",
        "        ])\n",
        "        dist = np.sqrt((dist[0,0] - dist[1,0])**2 + (dist[0,1] - dist[1,1])**2) / max(im.shape[0],im.shape[1])\n",
        "        between[i,j] = (np.abs(grad[i,:]-grad[j,:])).sum() + dist + (np.abs(texthist[i,:] - texthist[i,:])).sum()\n",
        "        if i == j:\n",
        "            between[i,j] = 100; \n",
        "\n",
        "# Get nearest and calculate total luma contrast\n",
        "near = np.zeros(segnum)\n",
        "hh = np.zeros(segnum)\n",
        "for i in range(segnum):\n",
        "    near[i] = np.argmin(between[i,:])\n",
        "    j = int(near[i])\n",
        "    max_ycbcr = max(ycbcr[i,0], ycbcr[j,0])\n",
        "    min_ycbcr = min(ycbcr[i,0], ycbcr[j,0])\n",
        "    hh[i] = min_ycbcr / max_ycbcr\n",
        "    \n",
        "#Plotting\n",
        "plt.imshow(seg)\n",
        "for i in range(segnum):\n",
        "    j = int(near[i])\n",
        "    plt.plot([centroids[i][1], centroids[j][1]], [centroids[i][0], centroids[j][0]], 'ro-', zorder=1)\n",
        "#plt.savefig('output/buto3.png')\n",
        "plt.show()"
      ],
      "execution_count": 0,
      "outputs": [
        {
          "output_type": "stream",
          "text": [
            "[ 8.  9. 13. 11. 30.  6.  5. 20.  9. 23. 27.  3. 18. 25. 17. 16. 15. 19.\n",
            " 12. 22. 31.  3. 19. 31. 16. 13. 27. 29. 30. 27. 35. 20. 31. 35. 29. 33.\n",
            " 37. 31. 33. 42. 42. 42. 40. 38. 46. 47. 44. 52. 52. 53. 52. 54. 47. 49.\n",
            " 51. 40.]\n"
          ],
          "name": "stdout"
        },
        {
          "output_type": "display_data",
          "data": {
            "image/png": "[encoded data removed]",
            "text/plain": [
              "<Figure size 432x288 with 1 Axes>"
            ]
          },
          "metadata": {
            "tags": [],
            "needs_background": "light"
          }
        }
      ]
    },
    {
      "metadata": {
        "id": "t_hTfksgUg4e",
        "colab_type": "text"
      },
      "cell_type": "markdown",
      "source": [
        "### Cluster into two using $\\frac{H}{I}$"
      ]
    },
    {
      "metadata": {
        "id": "4oMgLIawN2Vr",
        "colab_type": "code",
        "colab": {}
      },
      "cell_type": "code",
      "source": [
        "### KMEANS to see if it is in shadow or not\n",
        "x = np.reshape(hsi[:,0]/hsi[:,2], (hsi.shape[0]))\n",
        "kmeans = KMeans(n_clusters=2).fit(x[:,np.newaxis])\n",
        "idx = kmeans.labels_ + 1\n",
        "center = kmeans.cluster_centers_\n",
        "\n",
        "c_std = np.zeros((2))\n",
        "\n",
        "temp = (idx == 1)\n",
        "c_std[0] = x[temp].std();\n",
        "temp = (idx == 2)\n",
        "c_std[1] = x[temp].std();\n",
        "if center[0] > center[1]:\n",
        "    center = np.sort(center)\n",
        "    c_std[0], c_std[1] = c_std[1], c_std[0]"
      ],
      "execution_count": 0,
      "outputs": []
    },
    {
      "metadata": {
        "id": "adeJRukUUroT",
        "colab_type": "text"
      },
      "cell_type": "markdown",
      "source": [
        "### $\\bar{Luma}_x < 0.6 \\cdot \\bar{Luma} \\implies x \\in \\mathbf{Shadow} $"
      ]
    },
    {
      "metadata": {
        "id": "H1TLV5PCN2Vv",
        "colab_type": "code",
        "colab": {},
        "outputId": "98bec06e-1f9a-43db-d286-fcee43a178c5"
      },
      "cell_type": "code",
      "source": [
        "### SURELY IN THE SHADOW IF Y < 0.6 * avg\n",
        "label = np.zeros(segnum) + 255\n",
        "ycbcr_copy = np.array(ycbcr);\n",
        "n_nonshadow = segnum;\n",
        "avg_y = ycbcr[:,0].mean();\n",
        "\n",
        "for i in range(ycbcr.shape[0]):\n",
        "    if ycbcr[i,0] < avg_y * 0.6:\n",
        "        label[i] = 0\n",
        "        ycbcr_copy[i,:] = 0\n",
        "        n_nonshadow = n_nonshadow - 1;\n",
        "\n",
        "### Plotting\n",
        "a = np.zeros(seg.shape)\n",
        "for i in range(a.shape[0]):\n",
        "    for j in range(a.shape[1]):\n",
        "        if label[seg[i,j]-1] == 0:\n",
        "            a[i,j] = 1\n",
        "plt.axis('off')        \n",
        "io.imshow(a,cmap=\"gray\")\n",
        "#plt.savefig('./output/buto4.png')\n",
        "plt.show()"
      ],
      "execution_count": 0,
      "outputs": [
        {
          "output_type": "display_data",
          "data": {
            "image/png": "[encoded data removed]",
            "text/plain": [
              "<Figure size 432x288 with 1 Axes>"
            ]
          },
          "metadata": {
            "tags": [],
            "needs_background": "light"
          }
        }
      ]
    },
    {
      "metadata": {
        "id": "6LWelOsgN2Vz",
        "colab_type": "code",
        "colab": {},
        "outputId": "69b54075-9d1f-4942-afc7-dc0b0bf4de27"
      },
      "cell_type": "code",
      "source": [
        "surely_not = np.zeros((segnum))\n",
        "\n",
        "while True:\n",
        "    update = 0\n",
        "    new = 0\n",
        "    max_val = 0\n",
        "    for i in range(segnum):\n",
        "        val = hsi[i,0] / hsi[i,2]\n",
        "        t1 = norm.cdf((val - center[1])/c_std[1])\n",
        "        t2 = norm.cdf(-(val - center[0])/c_std[0])\n",
        "        if t2 < t1 and surely_not[i] == 0 and label[i] == 255:\n",
        "            if t1 > max_val:\n",
        "                new = i\n",
        "                max_val = t1\n",
        "                update = 1\n",
        "    if update == 0 or max_val < 0.00279:\n",
        "        break\n",
        "    \n",
        "    label[new] = 0\n",
        "    j = int(near[new])\n",
        "    vali = hsi[i,0] / hsi[i, 2]\n",
        "    valj = hsi[j,0] / hsi[j, 2]\n",
        "    if ((vali-center[1])/c_std[1]) - ((valj-center[1])/c_std[1]) > 3: \n",
        "        surely_not[j] = 1;\n",
        "        label[j] = 255;\n",
        "    ycbcr_copy[i,:] = 0;\n",
        "    n_nonshadow = n_nonshadow - 1;\n",
        "    flag = flag + 1;\n",
        "    \n",
        "### TEMP\n",
        "a = np.zeros(seg.shape)\n",
        "for i in range(a.shape[0]):\n",
        "    for j in range(a.shape[1]):\n",
        "        if label[seg[i,j]-1] == 0:\n",
        "            a[i,j] = 1\n",
        "plt.axis('off')        \n",
        "io.imshow(a,cmap=\"gray\")\n",
        "#plt.savefig('./output/buto5.png')\n",
        "plt.show()    "
      ],
      "execution_count": 0,
      "outputs": [
        {
          "output_type": "display_data",
          "data": {
            "image/png": "[encoded data removed]",
            "text/plain": [
              "<Figure size 432x288 with 1 Axes>"
            ]
          },
          "metadata": {
            "tags": [],
            "needs_background": "light"
          }
        }
      ]
    },
    {
      "metadata": {
        "id": "rg5Fc1fKN2V4",
        "colab_type": "code",
        "colab": {},
        "outputId": "ae0e5331-4062-4a99-c00f-cf269fe62941"
      },
      "cell_type": "code",
      "source": [
        "for i in range(segnum):\n",
        "    if label[i] != 255:\n",
        "        continue\n",
        "    \n",
        "    j = int(near[i])\n",
        "    max_hsv = max(hsv[i,2], hsv[j,2])\n",
        "    min_hsv = min(hsv[i,2], hsv[j,2])\n",
        "    max_ycbcr = max(ycbcr[i,0], ycbcr[j,0])\n",
        "    min_ycbcr = min(ycbcr[i,0], ycbcr[j,0])\n",
        "    same = min_hsv / max_hsv + min_ycbcr / max_ycbcr + hh[i]\n",
        "    \n",
        "    if same > 2.5 and label[j] == 0:\n",
        "        label[i] = 0\n",
        "        \n",
        "### TEMP\n",
        "a = np.zeros(seg.shape)\n",
        "for i in range(a.shape[0]):\n",
        "    for j in range(a.shape[1]):\n",
        "        if label[seg[i,j]-1] == 0:\n",
        "            a[i,j] = 1\n",
        "plt.axis('off')        \n",
        "io.imshow(a,cmap=\"gray\")\n",
        "#plt.savefig('./output/buto6.png')\n",
        "plt.show()            "
      ],
      "execution_count": 0,
      "outputs": [
        {
          "output_type": "display_data",
          "data": {
            "image/png": "[encoded data removed]",
            "text/plain": [
              "<Figure size 432x288 with 1 Axes>"
            ]
          },
          "metadata": {
            "tags": [],
            "needs_background": "light"
          }
        }
      ]
    },
    {
      "metadata": {
        "id": "GA2ss1L0UVZc",
        "colab_type": "text"
      },
      "cell_type": "markdown",
      "source": [
        "### Get final Shadow Mask"
      ]
    },
    {
      "metadata": {
        "id": "PUL5OXq6N2V9",
        "colab_type": "code",
        "colab": {},
        "outputId": "f7fc7533-be77-45e9-af55-bca706ba311e"
      },
      "cell_type": "code",
      "source": [
        "nseg = np.array(seg)\n",
        "for i in range(seg.shape[0]):\n",
        "    for j in range(seg.shape[1]):\n",
        "        nseg[i,j] = label[seg[i,j]-1]\n",
        "        \n",
        "io.imshow(nseg)  \n",
        "#plt.savefig('output/buto7.png')\n",
        "plt.show()"
      ],
      "execution_count": 0,
      "outputs": [
        {
          "output_type": "stream",
          "text": [
            "/home/shyamgopal/.local/lib/python3.5/site-packages/skimage/io/_plugins/matplotlib_plugin.py:77: UserWarning: Low image data range; displaying image with stretched contrast.\n",
            "  warn(\"Low image data range; displaying image with \"\n"
          ],
          "name": "stderr"
        },
        {
          "output_type": "display_data",
          "data": {
            "image/png": "[encoded data removed]",
            "text/plain": [
              "<Figure size 432x288 with 2 Axes>"
            ]
          },
          "metadata": {
            "tags": [],
            "needs_background": "light"
          }
        }
      ]
    }
  ]
}